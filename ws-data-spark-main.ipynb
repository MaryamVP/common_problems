{
 "cells": [
  {
   "cell_type": "code",
   "execution_count": null,
   "id": "5ed2c026-31f3-4a5c-9c94-cf34346278f3",
   "metadata": {},
   "outputs": [],
   "source": [
    "import os\n",
    "from pyspark.sql import SparkSession\n",
    "from pyspark.sql import DataFrame\n",
    "from geopy.distance import geodesic\n",
    "import pyspark.sql.functions as F\n",
    "from pyspark.sql.types import FloatType\n",
    "\n",
    "spark = SparkSession.builder.master('local').getOrCreate()"
   ]
  },
  {
   "cell_type": "code",
   "execution_count": null,
   "id": "79aa5b7e-6ff0-43df-893c-dbe0b9fafb54",
   "metadata": {},
   "outputs": [],
   "source": [
    "def read_data(data_sample_path:str, poi_path:str) -> DataFrame:\n",
    "    \"\"\"\n",
    "    Function to read data and poi given their path\n",
    "    :param data_sample_path: The path to the data sample.\n",
    "    :param poi_path: The path to the POI sample.\n",
    "    :return df: data sample table.\n",
    "    :return poi: POI table.\n",
    "    \"\"\"\n",
    "    \n",
    "    df = spark.read.options(\n",
    "        header='True',\n",
    "        inferSchema='True',\n",
    "        delimiter=',',\n",
    "    ).csv(os.path.expanduser(data_sample_path))\n",
    "    \n",
    "    poi = spark.read.options(\n",
    "        header='True',\n",
    "        inferSchema='True',\n",
    "        delimiter=',',\n",
    "    ).csv(os.path.expanduser(poi_path))\n",
    "    \n",
    "    \n",
    "    #safely rename column names\n",
    "    df = df.withColumnRenamed(\" TimeSt\", \"TimeSt\")\\\n",
    "            .withColumnRenamed(\"Latitude\", \"DataLatitude\")\\\n",
    "            .withColumnRenamed(\"Longitude\", \"DataLongitude\")\n",
    "    \n",
    "    poi = poi.withColumnRenamed(\" Latitude\", \"POILatitude\").withColumnRenamed(\"Longitude\", \"POILongitude\")\n",
    "    \n",
    "    return df, poi"
   ]
  },
  {
   "cell_type": "code",
   "execution_count": null,
   "id": "213fb32b-4a52-4089-b0c4-d2c7f17edbc1",
   "metadata": {},
   "outputs": [],
   "source": [
    "def cleanup(df: DataFrame) -> DataFrame:\n",
    "    \"\"\"\n",
    "    Function to clean records with identical geoinfo and timest\n",
    "    :param data_path: The path to the data sample.\n",
    "    :return unsuspicious_data: cleaned data to be unsuspicious.\n",
    "    \"\"\"\n",
    "    unsuspicious_data = df.selectExpr('*', \n",
    "        'count(*) over (partition by TimeSt, DataLatitude, DataLongitude) as cnt').filter(\n",
    "        F.col('cnt') == 1).drop('cnt')\n",
    "    \n",
    "    return unsuspicious_data"
   ]
  },
  {
   "cell_type": "code",
   "execution_count": null,
   "id": "a0e94f88-ef09-499a-90b4-0b5da069fc60",
   "metadata": {},
   "outputs": [],
   "source": [
    "def check_duplicates(cleaned_df: DataFrame, labeled_df: DataFrame) -> None:\n",
    "    \"\"\"\n",
    "    Function to check if any id is being duplicated after labeling.\n",
    "    :param cleaned_df: cleaned dataframe.\n",
    "    :param labeled_df: labeled dataframe.\n",
    "    \"\"\"\n",
    "    if cleaned_df.count() !=  labeled_df.count():\n",
    "        print(\"WARNING: Duplicate found!\")"
   ]
  },
  {
   "cell_type": "code",
   "execution_count": null,
   "id": "bd4d1f68-124c-40b8-b742-433fded51034",
   "metadata": {},
   "outputs": [],
   "source": [
    "@F.udf(returnType=FloatType())\n",
    "def geodesic_udf(point_a, point_b):\n",
    "    \"\"\"\n",
    "    A user defined function that calculates distance between two points\n",
    "    :param point_a: (longitude, latitude) format representing a point.\n",
    "    :param point_b: (longitude, latitude) format representing a point.\n",
    "    :return distance between a and b\n",
    "    \"\"\"\n",
    "    return geodesic(point_a, point_b).m"
   ]
  },
  {
   "cell_type": "code",
   "execution_count": null,
   "id": "a84ed75c-8a41-49b8-97c8-11383d520c52",
   "metadata": {},
   "outputs": [],
   "source": [
    "def label(df: DataFrame, poi: DataFrame) -> DataFrame:\n",
    "    \"\"\"\n",
    "    Function to fine closest POI to each request\n",
    "    :param df: data (request) records\n",
    "    :param poi: POI data records\n",
    "    :return min_labeled_data: data points assinged to the closest POI\n",
    "    \"\"\"\n",
    "    aggregated_points = df.crossJoin(poi)\n",
    "\n",
    "    labeled_data = aggregated_points.withColumn('distance', geodesic_udf(\n",
    "        F.array(\"POILatitude\", \"POILongitude\"), F.array(\"DataLatitude\", \"DataLongitude\")))\n",
    "    \n",
    "    min_distance_per_id = labeled_data.groupby('_ID').min('distance').withColumnRenamed(\n",
    "        \"min(distance)\", \"min_distance\").withColumnRenamed(\"_ID\", \"min_id\")\n",
    "    \n",
    "    cond = [min_distance_per_id.min_id == labeled_data._ID, \n",
    "            min_distance_per_id.min_distance == labeled_data.distance]\n",
    "    min_labeled_data = labeled_data.join(min_distance_per_id, cond, 'inner').select(labeled_data.columns)\n",
    "    \n",
    "    check_duplicates(df, min_labeled_data)\n",
    "    \n",
    "    return min_labeled_data"
   ]
  },
  {
   "cell_type": "code",
   "execution_count": null,
   "id": "8faf76f3-a659-42e8-9e2a-fa4e695b4822",
   "metadata": {},
   "outputs": [],
   "source": [
    "data_sample_path = '~/data/DataSample.csv'\n",
    "poi_path = '~/data/POIList.csv'"
   ]
  },
  {
   "cell_type": "code",
   "execution_count": null,
   "id": "01bcc52a-c919-49a6-aded-47654cb1abf4",
   "metadata": {},
   "outputs": [],
   "source": [
    "df, poi = read_data(data_sample_path, poi_path)"
   ]
  },
  {
   "cell_type": "code",
   "execution_count": null,
   "id": "5ec8fbb7-d625-4eed-a3aa-165e48efa52c",
   "metadata": {},
   "outputs": [],
   "source": [
    "cleaned_df = cleanup(df)\n",
    "cleaned_df.show()"
   ]
  },
  {
   "cell_type": "code",
   "execution_count": null,
   "id": "48ce17ca-83f3-4781-86f6-69d77ebbbf18",
   "metadata": {},
   "outputs": [],
   "source": [
    "labeled_df = label(cleaned_df, poi)\n",
    "labeled_df.show()"
   ]
  },
  {
   "cell_type": "markdown",
   "id": "665e1f6f-57ef-4fe0-9001-eb9ffbb7c7e7",
   "metadata": {
    "tags": []
   },
   "source": [
    "## WARNING: Duplicate found!\n",
    "\n",
    "Since POI1 and POI2 have same lat and long, therefor if the closest request to each point is either one of them, duplicate happens for those IDs. \n",
    "\n",
    "The question did not mention what to do with those duplicates, so I keep the dataframe as is.\n",
    "\n",
    "In total, there are `8748` duplicated IDs."
   ]
  },
  {
   "cell_type": "code",
   "execution_count": null,
   "id": "ad10e8f1-1eda-456c-81ae-4ca2d959dbd0",
   "metadata": {},
   "outputs": [],
   "source": [
    "pandas_df = labeled_df.toPandas()\n",
    "pandas_df[pandas_df['_ID'].duplicated()]"
   ]
  },
  {
   "cell_type": "code",
   "execution_count": null,
   "id": "20e53ecf-e554-4aa7-bbae-69a0c483f7ac",
   "metadata": {},
   "outputs": [],
   "source": []
  }
 ],
 "metadata": {
  "kernelspec": {
   "display_name": "Python 3 (ipykernel)",
   "language": "python",
   "name": "python3"
  },
  "language_info": {
   "codemirror_mode": {
    "name": "ipython",
    "version": 3
   },
   "file_extension": ".py",
   "mimetype": "text/x-python",
   "name": "python",
   "nbconvert_exporter": "python",
   "pygments_lexer": "ipython3",
   "version": "3.8.5"
  }
 },
 "nbformat": 4,
 "nbformat_minor": 5
}
